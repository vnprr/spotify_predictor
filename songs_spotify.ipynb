{
  "cells": [
    {
      "cell_type": "markdown",
      "metadata": {
        "id": "view-in-github",
        "colab_type": "text"
      },
      "source": [
        "<a href=\"https://colab.research.google.com/github/vnprr/spotify_predictor/blob/main/songs_spotify.ipynb\" target=\"_parent\"><img src=\"https://colab.research.google.com/assets/colab-badge.svg\" alt=\"Open In Colab\"/></a>"
      ]
    },
    {
      "cell_type": "code",
      "source": [
        "%load_ext autoreload\n",
        "%autoreload 2"
      ],
      "metadata": {
        "id": "8_IjZ-TkEgTP"
      },
      "execution_count": null,
      "outputs": []
    },
    {
      "cell_type": "code",
      "execution_count": null,
      "metadata": {
        "id": "6uCMjlWhggll"
      },
      "outputs": [],
      "source": [
        "from google.colab import drive\n",
        "drive.mount('/content/drive')"
      ]
    },
    {
      "cell_type": "code",
      "execution_count": null,
      "metadata": {
        "id": "6Yd9ATZJfvIW"
      },
      "outputs": [],
      "source": [
        "import os\n",
        "os.chdir(\"/content/drive/MyDrive/Programowanie/SpotifyPredicterRefactored\")"
      ]
    },
    {
      "cell_type": "code",
      "source": [
        "import matplotlib.pyplot as plt\n",
        "import nltk\n",
        "import pandas as pd\n",
        "import seaborn as sns\n",
        "import string\n",
        "from joblib import dump\n",
        "from keras.layers import Dense\n",
        "from keras.models import Sequential\n",
        "from sklearn.ensemble import GradientBoostingRegressor, RandomForestRegressor\n",
        "from sklearn.linear_model import RidgeCV\n",
        "from sklearn.svm import SVR\n",
        "from sklearn.neighbors import KNeighborsRegressor\n",
        "from sklearn.model_selection import GridSearchCV, cross_val_score, train_test_split\n",
        "from sklearn.metrics import r2_score\n",
        "from sklearn.preprocessing import OrdinalEncoder, StandardScaler\n",
        "from tqdm import tqdm"
      ],
      "metadata": {
        "id": "qYjO37HvPtNP"
      },
      "execution_count": null,
      "outputs": []
    },
    {
      "cell_type": "code",
      "source": [
        "from songs_spotify import load_artists, load_spotify_songs, load_joined_songs, get_Xy, train_test_split"
      ],
      "metadata": {
        "id": "rZ2MPTcX2PdD"
      },
      "execution_count": null,
      "outputs": []
    },
    {
      "cell_type": "markdown",
      "metadata": {
        "id": "83DwKEzEqfh_"
      },
      "source": [
        "# Data preparation"
      ]
    },
    {
      "cell_type": "markdown",
      "metadata": {
        "id": "cqmnFq_WlzBI"
      },
      "source": [
        "## Artists last_fm"
      ]
    },
    {
      "cell_type": "code",
      "execution_count": null,
      "metadata": {
        "id": "EPWzWx7nfukV"
      },
      "outputs": [],
      "source": [
        "# load last fm data\n",
        "artists = load_artists()\n",
        "\n",
        "artists"
      ]
    },
    {
      "cell_type": "markdown",
      "metadata": {
        "id": "W2SQTo7Cl4Tg"
      },
      "source": [
        "## Spotify songs"
      ]
    },
    {
      "cell_type": "code",
      "execution_count": null,
      "metadata": {
        "id": "F3TtFppLlvRl"
      },
      "outputs": [],
      "source": [
        "# load spotify data\n",
        "spotify_songs = load_spotify_songs()\n",
        "\n",
        "spotify_songs"
      ]
    },
    {
      "cell_type": "markdown",
      "metadata": {
        "id": "boQVOceA06W7"
      },
      "source": [
        "##Join sets"
      ]
    },
    {
      "cell_type": "code",
      "execution_count": null,
      "metadata": {
        "id": "I5zdyc6NqluY"
      },
      "outputs": [],
      "source": [
        "songs_joined = load_joined_songs(spotify_songs, artists)"
      ]
    },
    {
      "cell_type": "markdown",
      "metadata": {
        "id": "R9_fQEyHklPD"
      },
      "source": [
        "## Compute all songs xy"
      ]
    },
    {
      "cell_type": "code",
      "source": [
        "X, y = get_Xy(songs_joined)"
      ],
      "metadata": {
        "id": "auKikJnN_mZM"
      },
      "execution_count": null,
      "outputs": []
    },
    {
      "cell_type": "markdown",
      "metadata": {
        "id": "DDjoYfLSliMl"
      },
      "source": [
        "##Train/Test Split"
      ]
    },
    {
      "cell_type": "code",
      "execution_count": null,
      "metadata": {
        "id": "ik3hYgN6l8oz"
      },
      "outputs": [],
      "source": [
        "#XY\n",
        "X_train, X_test, y_train, y_test = train_test_split(X, y, test_size=0.20, random_state=1337)"
      ]
    },
    {
      "cell_type": "markdown",
      "metadata": {
        "id": "Su6IsdoCmlCY"
      },
      "source": [
        "##Training"
      ]
    },
    {
      "cell_type": "markdown",
      "metadata": {
        "id": "oGbtKT-BsXBz"
      },
      "source": [
        "##Ridge"
      ]
    },
    {
      "cell_type": "code",
      "execution_count": null,
      "metadata": {
        "id": "u8jnR3Zum41a"
      },
      "outputs": [],
      "source": [
        "ridge = RidgeCV(alphas=[0.001, 0.0001, 0.01, 1, 0.1])\n",
        "ridge.fit(X_train, y_train)"
      ]
    },
    {
      "cell_type": "code",
      "execution_count": null,
      "metadata": {
        "id": "Ohjzrh6Ppv3o"
      },
      "outputs": [],
      "source": [
        "ridge.score(X_train, y_train)"
      ]
    },
    {
      "cell_type": "code",
      "execution_count": null,
      "metadata": {
        "id": "YH7e2ka4q9VD"
      },
      "outputs": [],
      "source": [
        "ridge.score(X_test, y_test)"
      ]
    },
    {
      "cell_type": "markdown",
      "metadata": {
        "id": "ZjAFxdUPsang"
      },
      "source": [
        "##SVR  - deprecated"
      ]
    },
    {
      "cell_type": "code",
      "execution_count": null,
      "metadata": {
        "id": "KO2ngBdzrq7b"
      },
      "outputs": [],
      "source": [
        "#model tested, too much time, awful performance\n",
        "\n",
        "# parameters = {'kernel':('linear', 'rbf', 'poly'), 'C':[0.1, 1, 10]}\n",
        "# svr = SVR()\n",
        "# model = GridSearchCV(svr, parameters, n_jobs = -1, cv = 3, verbose=True)\n",
        "\n",
        "# opt\n",
        "# parameters = {'kernel':('linear', 'rbf'), 'C':[0.1, 1]}\n",
        "# svr = SVR()\n",
        "# model = GridSearchCV(svr, parameters, n_jobs=2, cv=3, verbose=True)\n",
        "\n",
        "\n",
        "# model.fit(X_train, y_train)"
      ]
    },
    {
      "cell_type": "code",
      "execution_count": null,
      "metadata": {
        "id": "NZtYn0ZltBou"
      },
      "outputs": [],
      "source": [
        "# model.score(X_train, y_train)"
      ]
    },
    {
      "cell_type": "code",
      "execution_count": null,
      "metadata": {
        "id": "yOgOGGDos7Y5"
      },
      "outputs": [],
      "source": [
        "# model.score(X_test, y_test)"
      ]
    },
    {
      "cell_type": "markdown",
      "metadata": {
        "id": "A0NjPDp7tHPS"
      },
      "source": [
        "##K-NN"
      ]
    },
    {
      "cell_type": "code",
      "execution_count": null,
      "metadata": {
        "id": "MrkCYUastTxY"
      },
      "outputs": [],
      "source": [
        "parameters = {'n_neighbors': (3, 5, 10, 15, 25, 50)}\n",
        "knn = KNeighborsRegressor()\n",
        "model_knn = GridSearchCV(knn, parameters, n_jobs = -1, cv = 3, verbose=True)\n",
        "model_knn.fit(X_train, y_train)"
      ]
    },
    {
      "cell_type": "code",
      "execution_count": null,
      "metadata": {
        "id": "m__Uq9Grt8fU"
      },
      "outputs": [],
      "source": [
        "model_knn.score(X_train, y_train)"
      ]
    },
    {
      "cell_type": "code",
      "execution_count": null,
      "metadata": {
        "id": "xsSIb6NTt8Qm"
      },
      "outputs": [],
      "source": [
        "model_knn.score(X_test, y_test)"
      ]
    },
    {
      "cell_type": "markdown",
      "metadata": {
        "id": "cT-KW0ECxio2"
      },
      "source": [
        "##random forest"
      ]
    },
    {
      "cell_type": "code",
      "execution_count": null,
      "metadata": {
        "id": "59IRqBRrxkj4"
      },
      "outputs": [],
      "source": [
        "# test / train split\n",
        "# X_train, X_test, y_train, y_test = train_test_split(X, y, test_size=0.20, random_state=1337)\n",
        "# RandomForestRegressor\n",
        "rf_model = RandomForestRegressor(n_estimators=400, max_depth=10, random_state=42)\n",
        "# train\n",
        "rf_model.fit(X_train, y_train)\n",
        "# predict on test\n",
        "y_pred = rf_model.predict(X_test)\n",
        "\n"
      ]
    },
    {
      "cell_type": "code",
      "execution_count": null,
      "metadata": {
        "id": "ZNpKYlOHraEe"
      },
      "outputs": [],
      "source": [
        "rf_model.score(X_train, y_train)"
      ]
    },
    {
      "cell_type": "code",
      "execution_count": null,
      "metadata": {
        "id": "kHFXYoBHrdXQ"
      },
      "outputs": [],
      "source": [
        "rf_model.score(X_test, y_test)"
      ]
    },
    {
      "cell_type": "code",
      "execution_count": null,
      "metadata": {
        "id": "i2Cmoxtrtim3"
      },
      "outputs": [],
      "source": [
        "plt.figure(figsize = (7, 7))\n",
        "\n",
        "# draw random forest\n",
        "sns.kdeplot(x=y_test, y=y_pred)\n",
        "sns.regplot(x=y_test, y=y_pred, scatter=False)"
      ]
    },
    {
      "cell_type": "markdown",
      "metadata": {
        "id": "v2BZCpPkxnbe"
      },
      "source": [
        "##random boosting (best score)"
      ]
    },
    {
      "cell_type": "code",
      "execution_count": null,
      "metadata": {
        "id": "Js354yikxsss"
      },
      "outputs": [],
      "source": [
        "gb_model = GradientBoostingRegressor(n_estimators=500, learning_rate=0.1, max_depth=5, random_state=42)\n",
        "\n",
        "# Train model\n",
        "gb_model.fit(X_train, y_train)\n",
        "\n",
        "# Predict on X_test\n",
        "y_pred_gb = gb_model.predict(X_test)\n",
        "\n"
      ]
    },
    {
      "cell_type": "code",
      "execution_count": null,
      "metadata": {
        "id": "6LeoGYlBry_V"
      },
      "outputs": [],
      "source": [
        "gb_model.score(X_train, y_train)"
      ]
    },
    {
      "cell_type": "code",
      "execution_count": null,
      "metadata": {
        "id": "kZ7Y8S8jr0wn"
      },
      "outputs": [],
      "source": [
        "gb_model.score(X_test, y_test)"
      ]
    },
    {
      "cell_type": "code",
      "execution_count": null,
      "metadata": {
        "id": "D4FwN7QWtWQw"
      },
      "outputs": [],
      "source": [
        "sns.kdeplot(x=y_test, y=y_pred_gb)"
      ]
    },
    {
      "cell_type": "code",
      "source": [
        "gbmodel_path = \"models/gb_model.joblib\"\n",
        "os.makedirs(os.path.dirname(gbmodel_path), exist_ok = True)\n",
        "dump(gb_model, gbmodel_path)"
      ],
      "metadata": {
        "id": "GRmHIg12NoLE"
      },
      "execution_count": null,
      "outputs": []
    },
    {
      "cell_type": "markdown",
      "metadata": {
        "id": "Up-QZ5HSvq0x"
      },
      "source": [
        "## Neural Networks"
      ]
    },
    {
      "cell_type": "code",
      "execution_count": null,
      "metadata": {
        "id": "KDe2Rq0rvpaR"
      },
      "outputs": [],
      "source": [
        "# architecture\n",
        "nn_model = Sequential()\n",
        "nn_model.add(Dense(256, activation=\"relu\", input_shape=(X_train.shape[1],)))\n",
        "nn_model.add(Dense(128, activation=\"relu\"))\n",
        "# ^ #128, 128, 50: tr 0.5822491450527092, 0.5244461518283765\n",
        "nn_model.add(Dense(128, activation=\"relu\"))\n",
        "# ^ #128, 128, 128, 50: tr 0.5964326981226203 te 0.541574869925696\n",
        "#nn_model.add(Dense(128, activation=\"relu\"))\n",
        "# ^ 128, 128, 128, 128, 50: tr 0.6420181327529579, te 0.5339284515859302\n",
        "nn_model.add(Dense(1))\n",
        "\n",
        "# compilation\n",
        "nn_model.compile(optimizer=\"rmsprop\", loss=\"mean_absolute_error\")\n",
        "\n",
        "# training\n",
        "history = nn_model.fit(x=X_train.values, y=y_train.values, epochs=50, batch_size=32, validation_split=0.2, verbose=True)\n",
        "\n"
      ]
    },
    {
      "cell_type": "code",
      "source": [
        "#rate\n",
        "y_pred = nn_model.predict(X_test)\n",
        "y_train_pred = nn_model.predict(X_train)\n",
        "\n",
        "print(r2_score(y_train, y_train_pred))\n",
        "print(r2_score(y_test, y_pred))\n",
        "print(nn_model.summary())"
      ],
      "metadata": {
        "id": "XXbcDLRTbt10"
      },
      "execution_count": null,
      "outputs": []
    },
    {
      "cell_type": "code",
      "source": [
        "#overfitting - jak spada walidacyjny to testowy też spada razem z nim, tu jest lekko\n",
        "plt.plot(history.history['loss'], label=\"train\")\n",
        "plt.plot(history.history['val_loss'], label=\"val\")\n",
        "\n",
        "plt.legend()"
      ],
      "metadata": {
        "id": "CbGOfEFLnVB-"
      },
      "execution_count": null,
      "outputs": []
    },
    {
      "cell_type": "code",
      "execution_count": null,
      "metadata": {
        "id": "InsL92ir0kqb"
      },
      "outputs": [],
      "source": [
        "plt.figure(figsize = (7, 7))\n",
        "sns.kdeplot(x=y_test, y=y_pred.flatten())\n",
        "sns.regplot(x=y_test, y=y_pred, scatter=False)"
      ]
    }
  ],
  "metadata": {
    "associatedRecipe": "compute_all_songs_xy",
    "colab": {
      "provenance": [],
      "include_colab_link": true
    },
    "createdOn": 1702914891689,
    "creator": "Z23_348",
    "customFields": {},
    "hide_input": false,
    "kernelspec": {
      "display_name": "Python 3",
      "language": "python",
      "name": "python3"
    },
    "language_info": {
      "codemirror_mode": {
        "name": "ipython",
        "version": 3
      },
      "file_extension": ".py",
      "mimetype": "text/x-python",
      "name": "python",
      "nbconvert_exporter": "python",
      "pygments_lexer": "ipython3",
      "version": "3.7.12"
    },
    "modifiedBy": "Z23_348",
    "tags": [
      "recipe-editor"
    ]
  },
  "nbformat": 4,
  "nbformat_minor": 0
}